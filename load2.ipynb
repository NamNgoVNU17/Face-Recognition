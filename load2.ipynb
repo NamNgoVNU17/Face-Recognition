{
 "cells": [
  {
   "cell_type": "code",
   "execution_count": 1,
   "metadata": {},
   "outputs": [],
   "source": [
    "import cv2\n",
    "import tensorflow as tf\n",
    "import numpy as np"
   ]
  },
  {
   "cell_type": "code",
   "execution_count": 6,
   "metadata": {},
   "outputs": [],
   "source": [
    "def resize_image(image, target_size):\n",
    "    return cv2.resize(image, target_size)\n",
    "\n",
    "def convert_to_grayscale(image):\n",
    "    return cv2.cvtColor(image, cv2.COLOR_BGR2GRAY)\n",
    "\n",
    "def adjust_brightness(image):\n",
    "    if len(image.shape) == 2:  # Nếu ảnh đơn kênh (grayscale)\n",
    "        return cv2.equalizeHist(image)\n",
    "\n",
    "def remove_noise(image, ksize=5):\n",
    "    return cv2.GaussianBlur(image, (ksize, ksize), 0)\n",
    "\n",
    "def normalize_image(image):\n",
    "    return image / 255.0\n",
    "\n",
    "def handle_missing_values(image):\n",
    "    if np.any(np.isnan(image)):\n",
    "        image = np.nan_to_num(image)\n",
    "    return image\n",
    "\n",
    "def sharpen_image(image, sigma=1.0, strength=1.5):\n",
    "    blurred = cv2.GaussianBlur(image, (0, 0), sigma)\n",
    "    sharpened_image = cv2.addWeighted(image, 1.0 + strength, blurred, -strength, 0)\n",
    "    return sharpened_image"
   ]
  },
  {
   "cell_type": "code",
   "execution_count": 7,
   "metadata": {},
   "outputs": [],
   "source": [
    "def preprocess_image(image, target_size=(200, 200)):\n",
    "       \n",
    "    # Resize image\n",
    "    image = resize_image(image, target_size)\n",
    "    \n",
    "    # Convert to grayscale\n",
    "    image = convert_to_grayscale(image)\n",
    "    \n",
    "    # Adjust brightness\n",
    "    image = adjust_brightness(image)\n",
    "    \n",
    "    # Remove noise\n",
    "    image = remove_noise(image)\n",
    "    \n",
    "    # Handle missing values\n",
    "    image = handle_missing_values(image)\n",
    "    \n",
    "    # Sharpen image\n",
    "    image = sharpen_image(image)\n",
    "    \n",
    "    # Normalize image\n",
    "    image = normalize_image(image)\n",
    "    \n",
    "    # Thêm kênh cho ảnh xám\n",
    "    image = np.expand_dims(image, axis=-1)\n",
    "    \n",
    "    return image"
   ]
  },
  {
   "cell_type": "code",
   "execution_count": 5,
   "metadata": {},
   "outputs": [
    {
     "name": "stderr",
     "output_type": "stream",
     "text": [
      "WARNING:absl:Compiled the loaded model, but the compiled metrics have yet to be built. `model.compile_metrics` will be empty until you train or evaluate the model.\n"
     ]
    },
    {
     "name": "stdout",
     "output_type": "stream",
     "text": [
      "\u001b[1m1/1\u001b[0m \u001b[32m━━━━━━━━━━━━━━━━━━━━\u001b[0m\u001b[37m\u001b[0m \u001b[1m0s\u001b[0m 85ms/step\n",
      "[[0.000000e+00 7.172054e-30 1.000000e+00 0.000000e+00]]\n"
     ]
    }
   ],
   "source": [
    "image = cv2.imread('na2.jpg')\n",
    "face_cascade = cv2.CascadeClassifier(\"haarcascade_frontalface_default.xml\")\n",
    "model1 = tf.keras.models.load_model(\"model1.h5\")\n",
    "gray = cv2.cvtColor(image, cv2.COLOR_BGR2GRAY)\n",
    "fa = face_cascade.detectMultiScale(gray,1.3,5)\n",
    "fontface = cv2.FONT_HERSHEY_SIMPLEX\n",
    "for (x,y,w,h) in fa :\n",
    "    cv2.rectangle(image,(x,y),(x + w,y + h),(0,255,0),2)\n",
    "    roi_gray = gray[y:y+h,x:x+w]\n",
    "    roi_gray = cv2.resize(src = roi_gray,dsize=(200,200))\n",
    "    roi_gray = roi_gray.reshape((200,200,1))\n",
    "    roi_gray = np.array(roi_gray)\n",
    "    result = model1.predict(np.array([roi_gray]))\n",
    "    final = np.argmax(result)\n",
    "    if final == 0 :\n",
    "        cv2.putText(image,\"Dat\",(x + 10,y+h+30),fontface,1,(0,255,0),2)\n",
    "    if final == 1 :\n",
    "        cv2.putText(image,\"Nam Ngo\",(x + 10,y+h+30),fontface,1,(0,255,0),2) \n",
    "    if final == 2 :\n",
    "        cv2.putText(image,\"Ngoc Anh\",(x + 10,y+h+30),fontface,1,(0,255,0),2) \n",
    "    if final == 3 :\n",
    "        cv2.putText(image,\"Tu Nam\",(x + 10,y+h+30),fontface,1,(0,255,0),2) \n",
    "cv2.imshow('training',image)\n",
    "print(result)\n",
    "cv2.waitKey(0)\n",
    "cv2.destroyAllWindows()"
   ]
  }
 ],
 "metadata": {
  "kernelspec": {
   "display_name": "Python 3",
   "language": "python",
   "name": "python3"
  },
  "language_info": {
   "codemirror_mode": {
    "name": "ipython",
    "version": 3
   },
   "file_extension": ".py",
   "mimetype": "text/x-python",
   "name": "python",
   "nbconvert_exporter": "python",
   "pygments_lexer": "ipython3",
   "version": "3.11.5"
  }
 },
 "nbformat": 4,
 "nbformat_minor": 2
}
